{
 "cells": [
  {
   "cell_type": "markdown",
   "metadata": {},
   "source": [
    "Columnas después de la codificación one-hot:\n",
    " ['island=Biscoe' 'island=Dream' 'island=Torgersen' 'sex=Female' 'sex=Male']\n",
    " \"bill_length_mm\", \"bill_depth_mm\", \"flipper_length_mm\", \"body_mass_g\""
   ]
  },
  {
   "cell_type": "code",
   "execution_count": 19,
   "metadata": {},
   "outputs": [
    {
     "name": "stdout",
     "output_type": "stream",
     "text": [
      "<!doctype html>\n",
      "<html lang=en>\n",
      "<title>400 Bad Request</title>\n",
      "<h1>Bad Request</h1>\n",
      "<p>Failed to decode JSON object: Expecting property name enclosed in double quotes: line 1 column 222 (char 221)</p>\n"
     ]
    },
    {
     "name": "stderr",
     "output_type": "stream",
     "text": [
      "  % Total    % Received % Xferd  Average Speed   Time    Time     Time  Current\n",
      "                                 Dload  Upload   Total   Spent    Left  Speed\n",
      "\n",
      "  0     0    0     0    0     0      0      0 --:--:-- --:--:-- --:--:--     0\n",
      "100   422  100   200  100   222  40192  44614 --:--:-- --:--:-- --:--:--  103k\n"
     ]
    }
   ],
   "source": [
    "!curl --request POST http://127.0.0.1:8000/predict_svm\\\n",
    "--header \"Content-Type: application/json\"\\\n",
    "--data-raw \"{\\\n",
    "    \\\"island=Biscoe\\\":0,\\\n",
    "    \\\"island=Dream\\\":0,\\\n",
    "    \\\"island=Torgersen\\\":1,\\\n",
    "    \\\"sex=Female\\\":0,\\\n",
    "    \\\"sex=Male\\\":1,\\\n",
    "    \\\"bill_length_mm\\\":39.1,\\\n",
    "    \\\"bill_depth_mm\\\":18.7,\\\n",
    "    \\\"flipper_length_mm\\\":181.0,\\\n",
    "    \\\"body_mass_g\\\":3750.0,\\\n",
    "}\" "
   ]
  }
 ],
 "metadata": {
  "language_info": {
   "name": "python"
  }
 },
 "nbformat": 4,
 "nbformat_minor": 2
}
